{
 "cells": [
  {
   "cell_type": "code",
   "execution_count": 1,
   "id": "3dacd8ca-22a3-4eb4-bb79-3bcfe25be695",
   "metadata": {},
   "outputs": [],
   "source": [
    "import pandas as pd\n",
    "import numpy as np\n",
    "import matplotlib.pyplot as plt\n",
    "import seaborn as sns"
   ]
  },
  {
   "cell_type": "code",
   "execution_count": 3,
   "id": "49356e7d-86aa-4f28-8f36-fcc4596f6390",
   "metadata": {},
   "outputs": [],
   "source": [
    "df=pd.read_csv(\"airbnb_sample.csv\")"
   ]
  },
  {
   "cell_type": "code",
   "execution_count": 5,
   "id": "2a854dcb-84f1-49ad-9205-15d8771c9bf3",
   "metadata": {},
   "outputs": [
    {
     "data": {
      "text/html": [
       "<div>\n",
       "<style scoped>\n",
       "    .dataframe tbody tr th:only-of-type {\n",
       "        vertical-align: middle;\n",
       "    }\n",
       "\n",
       "    .dataframe tbody tr th {\n",
       "        vertical-align: top;\n",
       "    }\n",
       "\n",
       "    .dataframe thead th {\n",
       "        text-align: right;\n",
       "    }\n",
       "</style>\n",
       "<table border=\"1\" class=\"dataframe\">\n",
       "  <thead>\n",
       "    <tr style=\"text-align: right;\">\n",
       "      <th></th>\n",
       "      <th>listing_id</th>\n",
       "      <th>city</th>\n",
       "      <th>neighborhood</th>\n",
       "      <th>latitude</th>\n",
       "      <th>longitude</th>\n",
       "      <th>property_type</th>\n",
       "      <th>price</th>\n",
       "      <th>number_of_reviews</th>\n",
       "      <th>review_scores_rating</th>\n",
       "      <th>host_is_superhost</th>\n",
       "      <th>amenities_count</th>\n",
       "      <th>response_time</th>\n",
       "      <th>minimum_nights</th>\n",
       "      <th>availability_365</th>\n",
       "      <th>last_review_date</th>\n",
       "      <th>month</th>\n",
       "    </tr>\n",
       "  </thead>\n",
       "  <tbody>\n",
       "    <tr>\n",
       "      <th>0</th>\n",
       "      <td>AB1000</td>\n",
       "      <td>Chicago</td>\n",
       "      <td>Beachside</td>\n",
       "      <td>41.983671</td>\n",
       "      <td>-87.807683</td>\n",
       "      <td>Condo</td>\n",
       "      <td>371.57</td>\n",
       "      <td>56</td>\n",
       "      <td>83.4</td>\n",
       "      <td>0</td>\n",
       "      <td>29</td>\n",
       "      <td>within an hour</td>\n",
       "      <td>21</td>\n",
       "      <td>112</td>\n",
       "      <td>2024-04-18</td>\n",
       "      <td>4</td>\n",
       "    </tr>\n",
       "    <tr>\n",
       "      <th>1</th>\n",
       "      <td>AB1001</td>\n",
       "      <td>New York</td>\n",
       "      <td>Beachside</td>\n",
       "      <td>40.614840</td>\n",
       "      <td>-74.047520</td>\n",
       "      <td>Apartment</td>\n",
       "      <td>347.09</td>\n",
       "      <td>38</td>\n",
       "      <td>96.0</td>\n",
       "      <td>0</td>\n",
       "      <td>6</td>\n",
       "      <td>within an hour</td>\n",
       "      <td>26</td>\n",
       "      <td>113</td>\n",
       "      <td>2024-04-07</td>\n",
       "      <td>4</td>\n",
       "    </tr>\n",
       "    <tr>\n",
       "      <th>2</th>\n",
       "      <td>AB1002</td>\n",
       "      <td>Chicago</td>\n",
       "      <td>Beachside</td>\n",
       "      <td>41.806160</td>\n",
       "      <td>-87.599479</td>\n",
       "      <td>Condo</td>\n",
       "      <td>175.97</td>\n",
       "      <td>108</td>\n",
       "      <td>61.8</td>\n",
       "      <td>0</td>\n",
       "      <td>19</td>\n",
       "      <td>within an hour</td>\n",
       "      <td>14</td>\n",
       "      <td>221</td>\n",
       "      <td>2024-08-02</td>\n",
       "      <td>8</td>\n",
       "    </tr>\n",
       "    <tr>\n",
       "      <th>3</th>\n",
       "      <td>AB1003</td>\n",
       "      <td>Chicago</td>\n",
       "      <td>Suburb</td>\n",
       "      <td>41.970287</td>\n",
       "      <td>-87.937205</td>\n",
       "      <td>Loft</td>\n",
       "      <td>479.69</td>\n",
       "      <td>180</td>\n",
       "      <td>71.2</td>\n",
       "      <td>0</td>\n",
       "      <td>15</td>\n",
       "      <td>within an hour</td>\n",
       "      <td>4</td>\n",
       "      <td>165</td>\n",
       "      <td>2024-10-19</td>\n",
       "      <td>10</td>\n",
       "    </tr>\n",
       "    <tr>\n",
       "      <th>4</th>\n",
       "      <td>AB1004</td>\n",
       "      <td>New York</td>\n",
       "      <td>Suburb</td>\n",
       "      <td>40.751156</td>\n",
       "      <td>-73.962332</td>\n",
       "      <td>House</td>\n",
       "      <td>382.05</td>\n",
       "      <td>41</td>\n",
       "      <td>98.0</td>\n",
       "      <td>0</td>\n",
       "      <td>12</td>\n",
       "      <td>a few days</td>\n",
       "      <td>22</td>\n",
       "      <td>318</td>\n",
       "      <td>2024-03-15</td>\n",
       "      <td>3</td>\n",
       "    </tr>\n",
       "    <tr>\n",
       "      <th>...</th>\n",
       "      <td>...</td>\n",
       "      <td>...</td>\n",
       "      <td>...</td>\n",
       "      <td>...</td>\n",
       "      <td>...</td>\n",
       "      <td>...</td>\n",
       "      <td>...</td>\n",
       "      <td>...</td>\n",
       "      <td>...</td>\n",
       "      <td>...</td>\n",
       "      <td>...</td>\n",
       "      <td>...</td>\n",
       "      <td>...</td>\n",
       "      <td>...</td>\n",
       "      <td>...</td>\n",
       "      <td>...</td>\n",
       "    </tr>\n",
       "    <tr>\n",
       "      <th>95</th>\n",
       "      <td>AB1095</td>\n",
       "      <td>New York</td>\n",
       "      <td>Uptown</td>\n",
       "      <td>40.604091</td>\n",
       "      <td>-74.138602</td>\n",
       "      <td>House</td>\n",
       "      <td>181.94</td>\n",
       "      <td>142</td>\n",
       "      <td>70.3</td>\n",
       "      <td>1</td>\n",
       "      <td>23</td>\n",
       "      <td>a few days</td>\n",
       "      <td>15</td>\n",
       "      <td>277</td>\n",
       "      <td>2024-02-13</td>\n",
       "      <td>2</td>\n",
       "    </tr>\n",
       "    <tr>\n",
       "      <th>96</th>\n",
       "      <td>AB1096</td>\n",
       "      <td>New York</td>\n",
       "      <td>Suburb</td>\n",
       "      <td>40.904893</td>\n",
       "      <td>-73.774143</td>\n",
       "      <td>Condo</td>\n",
       "      <td>197.90</td>\n",
       "      <td>158</td>\n",
       "      <td>78.4</td>\n",
       "      <td>1</td>\n",
       "      <td>10</td>\n",
       "      <td>a few days</td>\n",
       "      <td>18</td>\n",
       "      <td>234</td>\n",
       "      <td>2024-10-31</td>\n",
       "      <td>10</td>\n",
       "    </tr>\n",
       "    <tr>\n",
       "      <th>97</th>\n",
       "      <td>AB1097</td>\n",
       "      <td>Chicago</td>\n",
       "      <td>Beachside</td>\n",
       "      <td>41.907926</td>\n",
       "      <td>-87.769812</td>\n",
       "      <td>Condo</td>\n",
       "      <td>352.63</td>\n",
       "      <td>0</td>\n",
       "      <td>99.2</td>\n",
       "      <td>0</td>\n",
       "      <td>5</td>\n",
       "      <td>within an hour</td>\n",
       "      <td>2</td>\n",
       "      <td>3</td>\n",
       "      <td>2024-01-17</td>\n",
       "      <td>1</td>\n",
       "    </tr>\n",
       "    <tr>\n",
       "      <th>98</th>\n",
       "      <td>AB1098</td>\n",
       "      <td>New York</td>\n",
       "      <td>Uptown</td>\n",
       "      <td>40.636355</td>\n",
       "      <td>-74.079666</td>\n",
       "      <td>House</td>\n",
       "      <td>388.57</td>\n",
       "      <td>116</td>\n",
       "      <td>79.7</td>\n",
       "      <td>0</td>\n",
       "      <td>27</td>\n",
       "      <td>within a day</td>\n",
       "      <td>22</td>\n",
       "      <td>153</td>\n",
       "      <td>2024-11-25</td>\n",
       "      <td>11</td>\n",
       "    </tr>\n",
       "    <tr>\n",
       "      <th>99</th>\n",
       "      <td>AB1099</td>\n",
       "      <td>New York</td>\n",
       "      <td>Suburb</td>\n",
       "      <td>40.662533</td>\n",
       "      <td>-73.903068</td>\n",
       "      <td>House</td>\n",
       "      <td>406.21</td>\n",
       "      <td>53</td>\n",
       "      <td>73.2</td>\n",
       "      <td>0</td>\n",
       "      <td>19</td>\n",
       "      <td>within an hour</td>\n",
       "      <td>28</td>\n",
       "      <td>28</td>\n",
       "      <td>2024-02-26</td>\n",
       "      <td>2</td>\n",
       "    </tr>\n",
       "  </tbody>\n",
       "</table>\n",
       "<p>100 rows × 16 columns</p>\n",
       "</div>"
      ],
      "text/plain": [
       "   listing_id      city neighborhood   latitude  longitude property_type  \\\n",
       "0      AB1000   Chicago    Beachside  41.983671 -87.807683         Condo   \n",
       "1      AB1001  New York    Beachside  40.614840 -74.047520     Apartment   \n",
       "2      AB1002   Chicago    Beachside  41.806160 -87.599479         Condo   \n",
       "3      AB1003   Chicago       Suburb  41.970287 -87.937205          Loft   \n",
       "4      AB1004  New York       Suburb  40.751156 -73.962332         House   \n",
       "..        ...       ...          ...        ...        ...           ...   \n",
       "95     AB1095  New York       Uptown  40.604091 -74.138602         House   \n",
       "96     AB1096  New York       Suburb  40.904893 -73.774143         Condo   \n",
       "97     AB1097   Chicago    Beachside  41.907926 -87.769812         Condo   \n",
       "98     AB1098  New York       Uptown  40.636355 -74.079666         House   \n",
       "99     AB1099  New York       Suburb  40.662533 -73.903068         House   \n",
       "\n",
       "     price  number_of_reviews  review_scores_rating  host_is_superhost  \\\n",
       "0   371.57                 56                  83.4                  0   \n",
       "1   347.09                 38                  96.0                  0   \n",
       "2   175.97                108                  61.8                  0   \n",
       "3   479.69                180                  71.2                  0   \n",
       "4   382.05                 41                  98.0                  0   \n",
       "..     ...                ...                   ...                ...   \n",
       "95  181.94                142                  70.3                  1   \n",
       "96  197.90                158                  78.4                  1   \n",
       "97  352.63                  0                  99.2                  0   \n",
       "98  388.57                116                  79.7                  0   \n",
       "99  406.21                 53                  73.2                  0   \n",
       "\n",
       "    amenities_count   response_time  minimum_nights  availability_365  \\\n",
       "0                29  within an hour              21               112   \n",
       "1                 6  within an hour              26               113   \n",
       "2                19  within an hour              14               221   \n",
       "3                15  within an hour               4               165   \n",
       "4                12      a few days              22               318   \n",
       "..              ...             ...             ...               ...   \n",
       "95               23      a few days              15               277   \n",
       "96               10      a few days              18               234   \n",
       "97                5  within an hour               2                 3   \n",
       "98               27    within a day              22               153   \n",
       "99               19  within an hour              28                28   \n",
       "\n",
       "   last_review_date  month  \n",
       "0        2024-04-18      4  \n",
       "1        2024-04-07      4  \n",
       "2        2024-08-02      8  \n",
       "3        2024-10-19     10  \n",
       "4        2024-03-15      3  \n",
       "..              ...    ...  \n",
       "95       2024-02-13      2  \n",
       "96       2024-10-31     10  \n",
       "97       2024-01-17      1  \n",
       "98       2024-11-25     11  \n",
       "99       2024-02-26      2  \n",
       "\n",
       "[100 rows x 16 columns]"
      ]
     },
     "execution_count": 5,
     "metadata": {},
     "output_type": "execute_result"
    }
   ],
   "source": [
    "df"
   ]
  },
  {
   "cell_type": "code",
   "execution_count": 7,
   "id": "a49075f2-39ac-4d9a-a59a-2769ffb82d1a",
   "metadata": {},
   "outputs": [
    {
     "name": "stdout",
     "output_type": "stream",
     "text": [
      "<class 'pandas.core.frame.DataFrame'>\n",
      "RangeIndex: 100 entries, 0 to 99\n",
      "Data columns (total 16 columns):\n",
      " #   Column                Non-Null Count  Dtype  \n",
      "---  ------                --------------  -----  \n",
      " 0   listing_id            100 non-null    object \n",
      " 1   city                  100 non-null    object \n",
      " 2   neighborhood          100 non-null    object \n",
      " 3   latitude              100 non-null    float64\n",
      " 4   longitude             100 non-null    float64\n",
      " 5   property_type         100 non-null    object \n",
      " 6   price                 100 non-null    float64\n",
      " 7   number_of_reviews     100 non-null    int64  \n",
      " 8   review_scores_rating  100 non-null    float64\n",
      " 9   host_is_superhost     100 non-null    int64  \n",
      " 10  amenities_count       100 non-null    int64  \n",
      " 11  response_time         100 non-null    object \n",
      " 12  minimum_nights        100 non-null    int64  \n",
      " 13  availability_365      100 non-null    int64  \n",
      " 14  last_review_date      100 non-null    object \n",
      " 15  month                 100 non-null    int64  \n",
      "dtypes: float64(4), int64(6), object(6)\n",
      "memory usage: 12.6+ KB\n"
     ]
    }
   ],
   "source": [
    "df.info()"
   ]
  },
  {
   "cell_type": "code",
   "execution_count": 9,
   "id": "85ef0a8f-7fd7-487c-927d-72e20d448318",
   "metadata": {},
   "outputs": [
    {
     "data": {
      "text/html": [
       "<div>\n",
       "<style scoped>\n",
       "    .dataframe tbody tr th:only-of-type {\n",
       "        vertical-align: middle;\n",
       "    }\n",
       "\n",
       "    .dataframe tbody tr th {\n",
       "        vertical-align: top;\n",
       "    }\n",
       "\n",
       "    .dataframe thead th {\n",
       "        text-align: right;\n",
       "    }\n",
       "</style>\n",
       "<table border=\"1\" class=\"dataframe\">\n",
       "  <thead>\n",
       "    <tr style=\"text-align: right;\">\n",
       "      <th></th>\n",
       "      <th>latitude</th>\n",
       "      <th>longitude</th>\n",
       "      <th>price</th>\n",
       "      <th>number_of_reviews</th>\n",
       "      <th>review_scores_rating</th>\n",
       "      <th>host_is_superhost</th>\n",
       "      <th>amenities_count</th>\n",
       "      <th>minimum_nights</th>\n",
       "      <th>availability_365</th>\n",
       "      <th>month</th>\n",
       "    </tr>\n",
       "  </thead>\n",
       "  <tbody>\n",
       "    <tr>\n",
       "      <th>count</th>\n",
       "      <td>100.000000</td>\n",
       "      <td>100.000000</td>\n",
       "      <td>100.000000</td>\n",
       "      <td>100.00000</td>\n",
       "      <td>100.000000</td>\n",
       "      <td>100.000000</td>\n",
       "      <td>100.000000</td>\n",
       "      <td>100.000000</td>\n",
       "      <td>100.000000</td>\n",
       "      <td>100.000000</td>\n",
       "    </tr>\n",
       "    <tr>\n",
       "      <th>mean</th>\n",
       "      <td>38.662999</td>\n",
       "      <td>-94.207795</td>\n",
       "      <td>278.747700</td>\n",
       "      <td>111.17000</td>\n",
       "      <td>82.420000</td>\n",
       "      <td>0.120000</td>\n",
       "      <td>15.950000</td>\n",
       "      <td>17.720000</td>\n",
       "      <td>184.820000</td>\n",
       "      <td>6.360000</td>\n",
       "    </tr>\n",
       "    <tr>\n",
       "      <th>std</th>\n",
       "      <td>3.503972</td>\n",
       "      <td>19.012332</td>\n",
       "      <td>133.377827</td>\n",
       "      <td>57.32189</td>\n",
       "      <td>11.728908</td>\n",
       "      <td>0.326599</td>\n",
       "      <td>7.497306</td>\n",
       "      <td>8.221774</td>\n",
       "      <td>105.156005</td>\n",
       "      <td>3.494642</td>\n",
       "    </tr>\n",
       "    <tr>\n",
       "      <th>min</th>\n",
       "      <td>33.726473</td>\n",
       "      <td>-118.647286</td>\n",
       "      <td>54.880000</td>\n",
       "      <td>0.00000</td>\n",
       "      <td>60.600000</td>\n",
       "      <td>0.000000</td>\n",
       "      <td>5.000000</td>\n",
       "      <td>1.000000</td>\n",
       "      <td>1.000000</td>\n",
       "      <td>1.000000</td>\n",
       "    </tr>\n",
       "    <tr>\n",
       "      <th>25%</th>\n",
       "      <td>34.183866</td>\n",
       "      <td>-118.225522</td>\n",
       "      <td>176.897500</td>\n",
       "      <td>59.25000</td>\n",
       "      <td>73.975000</td>\n",
       "      <td>0.000000</td>\n",
       "      <td>9.000000</td>\n",
       "      <td>11.000000</td>\n",
       "      <td>94.000000</td>\n",
       "      <td>3.750000</td>\n",
       "    </tr>\n",
       "    <tr>\n",
       "      <th>50%</th>\n",
       "      <td>40.660716</td>\n",
       "      <td>-87.776760</td>\n",
       "      <td>286.445000</td>\n",
       "      <td>125.00000</td>\n",
       "      <td>82.850000</td>\n",
       "      <td>0.000000</td>\n",
       "      <td>15.000000</td>\n",
       "      <td>19.000000</td>\n",
       "      <td>198.000000</td>\n",
       "      <td>6.000000</td>\n",
       "    </tr>\n",
       "    <tr>\n",
       "      <th>75%</th>\n",
       "      <td>41.736981</td>\n",
       "      <td>-74.083558</td>\n",
       "      <td>388.812500</td>\n",
       "      <td>162.25000</td>\n",
       "      <td>93.550000</td>\n",
       "      <td>0.000000</td>\n",
       "      <td>22.000000</td>\n",
       "      <td>24.000000</td>\n",
       "      <td>268.000000</td>\n",
       "      <td>10.000000</td>\n",
       "    </tr>\n",
       "    <tr>\n",
       "      <th>max</th>\n",
       "      <td>42.019235</td>\n",
       "      <td>-73.748936</td>\n",
       "      <td>495.730000</td>\n",
       "      <td>199.00000</td>\n",
       "      <td>100.000000</td>\n",
       "      <td>1.000000</td>\n",
       "      <td>30.000000</td>\n",
       "      <td>30.000000</td>\n",
       "      <td>365.000000</td>\n",
       "      <td>12.000000</td>\n",
       "    </tr>\n",
       "  </tbody>\n",
       "</table>\n",
       "</div>"
      ],
      "text/plain": [
       "         latitude   longitude       price  number_of_reviews  \\\n",
       "count  100.000000  100.000000  100.000000          100.00000   \n",
       "mean    38.662999  -94.207795  278.747700          111.17000   \n",
       "std      3.503972   19.012332  133.377827           57.32189   \n",
       "min     33.726473 -118.647286   54.880000            0.00000   \n",
       "25%     34.183866 -118.225522  176.897500           59.25000   \n",
       "50%     40.660716  -87.776760  286.445000          125.00000   \n",
       "75%     41.736981  -74.083558  388.812500          162.25000   \n",
       "max     42.019235  -73.748936  495.730000          199.00000   \n",
       "\n",
       "       review_scores_rating  host_is_superhost  amenities_count  \\\n",
       "count            100.000000         100.000000       100.000000   \n",
       "mean              82.420000           0.120000        15.950000   \n",
       "std               11.728908           0.326599         7.497306   \n",
       "min               60.600000           0.000000         5.000000   \n",
       "25%               73.975000           0.000000         9.000000   \n",
       "50%               82.850000           0.000000        15.000000   \n",
       "75%               93.550000           0.000000        22.000000   \n",
       "max              100.000000           1.000000        30.000000   \n",
       "\n",
       "       minimum_nights  availability_365       month  \n",
       "count      100.000000        100.000000  100.000000  \n",
       "mean        17.720000        184.820000    6.360000  \n",
       "std          8.221774        105.156005    3.494642  \n",
       "min          1.000000          1.000000    1.000000  \n",
       "25%         11.000000         94.000000    3.750000  \n",
       "50%         19.000000        198.000000    6.000000  \n",
       "75%         24.000000        268.000000   10.000000  \n",
       "max         30.000000        365.000000   12.000000  "
      ]
     },
     "execution_count": 9,
     "metadata": {},
     "output_type": "execute_result"
    }
   ],
   "source": [
    "df.describe()"
   ]
  },
  {
   "cell_type": "code",
   "execution_count": 13,
   "id": "fcbf8e6b-452b-465f-a7cb-21c7c285ca54",
   "metadata": {},
   "outputs": [
    {
     "data": {
      "text/plain": [
       "listing_id              0\n",
       "city                    0\n",
       "neighborhood            0\n",
       "latitude                0\n",
       "longitude               0\n",
       "property_type           0\n",
       "price                   0\n",
       "number_of_reviews       0\n",
       "review_scores_rating    0\n",
       "host_is_superhost       0\n",
       "amenities_count         0\n",
       "response_time           0\n",
       "minimum_nights          0\n",
       "availability_365        0\n",
       "last_review_date        0\n",
       "month                   0\n",
       "dtype: int64"
      ]
     },
     "execution_count": 13,
     "metadata": {},
     "output_type": "execute_result"
    }
   ],
   "source": [
    "df.isnull().sum()"
   ]
  },
  {
   "cell_type": "code",
   "execution_count": 15,
   "id": "1d2862ba-0706-40b3-8947-a3ff5b34b0f5",
   "metadata": {},
   "outputs": [
    {
     "data": {
      "text/plain": [
       "city\n",
       "Los Angeles    36\n",
       "New York       33\n",
       "Chicago        31\n",
       "Name: count, dtype: int64"
      ]
     },
     "execution_count": 15,
     "metadata": {},
     "output_type": "execute_result"
    }
   ],
   "source": [
    "df['city'].value_counts()"
   ]
  },
  {
   "cell_type": "code",
   "execution_count": 19,
   "id": "3efc2dcd-1422-4770-b6fe-03475771a5e7",
   "metadata": {},
   "outputs": [
    {
     "data": {
      "text/plain": [
       "property_type\n",
       "Condo        31\n",
       "House        26\n",
       "Apartment    22\n",
       "Loft         21\n",
       "Name: count, dtype: int64"
      ]
     },
     "execution_count": 19,
     "metadata": {},
     "output_type": "execute_result"
    }
   ],
   "source": [
    "df['property_type'].value_counts()"
   ]
  },
  {
   "cell_type": "code",
   "execution_count": 21,
   "id": "cec95db4-c27d-44bb-a1a1-2dfe8e9643a2",
   "metadata": {},
   "outputs": [
    {
     "data": {
      "text/plain": [
       "response_time\n",
       "a few days        36\n",
       "within an hour    33\n",
       "within a day      31\n",
       "Name: count, dtype: int64"
      ]
     },
     "execution_count": 21,
     "metadata": {},
     "output_type": "execute_result"
    }
   ],
   "source": [
    "df['response_time'].value_counts()"
   ]
  },
  {
   "cell_type": "markdown",
   "id": "4355d082-a371-4abd-81fb-fb5eabb92878",
   "metadata": {},
   "source": [
    "### PRICING BY CITY"
   ]
  },
  {
   "cell_type": "code",
   "execution_count": 24,
   "id": "24f5e3ca-8a46-4f8c-aac0-91b312d7502d",
   "metadata": {},
   "outputs": [
    {
     "data": {
      "text/plain": [
       "city\n",
       "Chicago        283.288065\n",
       "Los Angeles    256.492778\n",
       "New York       298.760606\n",
       "Name: price, dtype: float64"
      ]
     },
     "execution_count": 24,
     "metadata": {},
     "output_type": "execute_result"
    }
   ],
   "source": [
    "#Average price by city\n",
    "df.groupby('city')['price'].mean()"
   ]
  },
  {
   "cell_type": "code",
   "execution_count": 50,
   "id": "6b2acc41-ad15-478e-a82a-8dee031888ed",
   "metadata": {},
   "outputs": [
    {
     "data": {
      "image/png": "[encoded data removed]",
      "text/plain": [
       "<Figure size 640x480 with 1 Axes>"
      ]
     },
     "metadata": {},
     "output_type": "display_data"
    }
   ],
   "source": [
    "sns.barplot(x='city',y='price',data=df)\n",
    "plt.title('Average Price by city')\n",
    "plt.xticks(rotation=45)\n",
    "plt.yticks(rotation=90)\n",
    "plt.show()"
   ]
  },
  {
   "cell_type": "markdown",
   "id": "8486c9e1-dde4-49a4-b659-abb0414a4be5",
   "metadata": {},
   "source": [
    "### PRICING BY PROPERTY TYPE"
   ]
  },
  {
   "cell_type": "code",
   "execution_count": 33,
   "id": "b1445b6e-5e26-47b3-af42-34f02c49b143",
   "metadata": {},
   "outputs": [
    {
     "data": {
      "text/plain": [
       "property_type\n",
       "Apartment    274.288636\n",
       "Condo        246.756452\n",
       "House        281.956154\n",
       "Loft         326.671905\n",
       "Name: price, dtype: float64"
      ]
     },
     "execution_count": 33,
     "metadata": {},
     "output_type": "execute_result"
    }
   ],
   "source": [
    "#Average price by property type\n",
    "df.groupby('property_type')['price'].mean()"
   ]
  },
  {
   "cell_type": "code",
   "execution_count": 46,
   "id": "29f666f5-1dd3-4c17-bbb8-3a6ef578199f",
   "metadata": {},
   "outputs": [
    {
     "data": {
      "image/png": "[encoded data removed]",
      "text/plain": [
       "<Figure size 640x480 with 1 Axes>"
      ]
     },
     "metadata": {},
     "output_type": "display_data"
    }
   ],
   "source": [
    "sns.barplot(x='property_type', y= 'price',data=df)\n",
    "plt.title('Average Price by Property type')\n",
    "plt.xticks(rotation=45)\n",
    "plt.show()"
   ]
  },
  {
   "cell_type": "markdown",
   "id": "017a207c-07b4-4006-a0d1-39ed29841184",
   "metadata": {},
   "source": [
    "### PRICING BY REVIEWS"
   ]
  },
  {
   "cell_type": "code",
   "execution_count": 55,
   "id": "a5da1976-10b7-4cfc-9d58-b3f0e3750cd2",
   "metadata": {},
   "outputs": [
    {
     "data": {
      "image/png": "[encoded data removed]",
      "text/plain": [
       "<Figure size 640x480 with 1 Axes>"
      ]
     },
     "metadata": {},
     "output_type": "display_data"
    }
   ],
   "source": [
    "sns.scatterplot(x='number_of_reviews',y='price',data=df)\n",
    "plt.title('Number of review VS price')\n",
    "plt.show()"
   ]
  },
  {
   "cell_type": "code",
   "execution_count": 57,
   "id": "6488f460-8191-440c-bd0f-bb4e8c14d31b",
   "metadata": {},
   "outputs": [
    {
     "data": {
      "image/png": "[encoded data removed]",
      "text/plain": [
       "<Figure size 640x480 with 1 Axes>"
      ]
     },
     "metadata": {},
     "output_type": "display_data"
    }
   ],
   "source": [
    "sns.scatterplot(x='review_scores_rating', y='price', data=df)\n",
    "plt.title('Review Scores Rating vs Price')\n",
    "plt.show()"
   ]
  },
  {
   "cell_type": "markdown",
   "id": "b62915bf-1fe5-4dab-904f-913c38de1e6e",
   "metadata": {},
   "source": [
    "### Run Regression Model to Find Pricing Predictors"
   ]
  },
  {
   "cell_type": "code",
   "execution_count": 59,
   "id": "599481a8-6e53-4469-9bcb-fa1fb69e758b",
   "metadata": {},
   "outputs": [],
   "source": [
    "from sklearn.model_selection import train_test_split\n",
    "from sklearn.linear_model import LinearRegression\n",
    "import statsmodels.api as sm"
   ]
  },
  {
   "cell_type": "code",
   "execution_count": 66,
   "id": "c26bf91f-1501-434b-8b36-853a3713d46d",
   "metadata": {},
   "outputs": [
    {
     "name": "stdout",
     "output_type": "stream",
     "text": [
      "Model Accuracy (R²): 0.06535451000270776\n",
      "[259.74485375 281.67731588 278.06817654 299.16776037 251.97132286]\n"
     ]
    }
   ],
   "source": [
    "\n",
    "# 2. Select features (X) and target (y)\n",
    "X = df[['number_of_reviews']]    # You can add more columns here later\n",
    "y = df['price']\n",
    "\n",
    "# 3. Split data into training and testing sets\n",
    "X_train, X_test, y_train, y_test = train_test_split(X, y, test_size=0.2, random_state=42)\n",
    "\n",
    "# 4. Create and train the model\n",
    "model = LinearRegression()\n",
    "model.fit(X_train, y_train)\n",
    "\n",
    "# 5. Test the model\n",
    "print(\"Model Accuracy (R²):\", model.score(X_test, y_test))\n",
    "\n",
    "# 6. Predict new prices\n",
    "predicted_prices = model.predict(X_test)\n",
    "\n",
    "# Show some predictions\n",
    "print(predicted_prices[:5])"
   ]
  },
  {
   "cell_type": "code",
   "execution_count": null,
   "id": "d429986e-be17-47ee-b196-507325cbbe05",
   "metadata": {},
   "outputs": [],
   "source": []
  }
 ],
 "metadata": {
  "kernelspec": {
   "display_name": "Python [conda env:base] *",
   "language": "python",
   "name": "conda-base-py"
  },
  "language_info": {
   "codemirror_mode": {
    "name": "ipython",
    "version": 3
   },
   "file_extension": ".py",
   "mimetype": "text/x-python",
   "name": "python",
   "nbconvert_exporter": "python",
   "pygments_lexer": "ipython3",
   "version": "3.12.7"
  }
 },
 "nbformat": 4,
 "nbformat_minor": 5
}
